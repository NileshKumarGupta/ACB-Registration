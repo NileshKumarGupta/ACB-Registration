{
 "cells": [
  {
   "cell_type": "code",
   "execution_count": 4,
   "metadata": {
    "collapsed": true
   },
   "outputs": [],
   "source": [
    "import numpy as np\n",
    "import pandas as pd\n",
    "import csv\n",
    "import xlrd\n",
    "import math\n",
    "from os import listdir\n",
    "from os.path import isfile, join"
   ]
  },
  {
   "cell_type": "code",
   "execution_count": 5,
   "metadata": {
    "collapsed": true
   },
   "outputs": [],
   "source": [
    "def load_reg():\n",
    "    files = [f for f in listdir(\"./data\") if isfile(join(\"./data\", f))]\n",
    "    files.sort()\n",
    "    files\n",
    "    registration_data=pd.DataFrame()\n",
    "    for i in files:\n",
    "        data = pd.read_excel(\"./data/\"+i,\"sheet1\",header=1)\n",
    "        registration_data=registration_data.append(data)\n",
    "    return registration_data"
   ]
  },
  {
   "cell_type": "code",
   "execution_count": 6,
   "metadata": {
    "collapsed": true
   },
   "outputs": [],
   "source": [
    "def load_pre():\n",
    "    pre_req=pd.read_excel('Pre-requisite_27-12-2018.xlsx',header=1)\n",
    "    return pre_req"
   ]
  },
  {
   "cell_type": "code",
   "execution_count": 7,
   "metadata": {
    "collapsed": true
   },
   "outputs": [],
   "source": [
    "def load_students():\n",
    "    students_id=[]\n",
    "    files = [f for f in listdir(\"./Input\") if isfile(join(\"./Input\", f))]\n",
    "    files.sort()\n",
    "    for i in files:\n",
    "        if(i[0]!='.'):\n",
    "            students_id.append(i)     \n",
    "    return students_id"
   ]
  },
  {
   "cell_type": "code",
   "execution_count": 8,
   "metadata": {},
   "outputs": [
    {
     "data": {
      "text/plain": [
       "['2015A7PS0103G.xlsx']"
      ]
     },
     "execution_count": 8,
     "metadata": {},
     "output_type": "execute_result"
    }
   ],
   "source": [
    "students_id=load_students()\n",
    "students_id"
   ]
  },
  {
   "cell_type": "code",
   "execution_count": 9,
   "metadata": {
    "collapsed": true
   },
   "outputs": [],
   "source": [
    "#RETURNS LIST OF COURSES THAT HAVE PRE-REQ TO BE SATISFIED ALONG WITH THE REQUIRED COURSES\n",
    "\n",
    "def pre_req_satisfied(courses,reg_data):\n",
    "    dict1=dict()\n",
    "    for course_no in range(len(courses[0])):\n",
    "        \n",
    "        pre_line1=pre_req.loc[((pre_req[\"Subject\"])==courses[0][course_no])]\n",
    "        if pre_line1.empty==True:\n",
    "            pre_line1=pre_req.loc[((pre_req[\"Subject\"])==\" \"+courses[0][course_no])]\n",
    "        \n",
    "        pre_line=pre_line1.loc[pre_line1[\"Catalog\"]==(courses[1][course_no])]\n",
    "        if pre_line.empty==True:\n",
    "            pre_line=pre_line1.loc[(pre_line1[\"Catalog\"]==\"    \"+courses[1][course_no])]\n",
    "        if pre_line.empty==True:\n",
    "            pre_line=pre_line1.loc[(pre_line1[\"Catalog\"]==\"   \"+courses[1][course_no])]\n",
    "        if pre_line.empty==True:\n",
    "            pre_line=pre_line1.loc[(pre_line1[\"Catalog\"]==\"  \"+courses[1][course_no])]\n",
    "        if pre_line.empty==True:\n",
    "            pre_line=pre_line1.loc[(pre_line1[\"Catalog\"]==\" \"+courses[1][course_no])]\n",
    "        if(pre_line.empty==True):\n",
    "            continue\n",
    "        \n",
    "        course_name=pre_line.iloc[0]['Title']\n",
    "        \n",
    "        p1_1=pre_line.iloc[0]['preq1 subject']\n",
    "        p1_2=pre_line.iloc[0]['preq1 catalog']\n",
    "        p2_1=pre_line.iloc[0]['preq2 sub']\n",
    "        p2_2=pre_line.iloc[0]['preq2 cat']\n",
    "        p3_1=pre_line.iloc[0]['preq3 no']\n",
    "        p3_2=pre_line.iloc[0]['preq3 cat']\n",
    "        p4_1=pre_line.iloc[0]['preq4 no']\n",
    "        p4_2=pre_line.iloc[0]['preq4 cat']\n",
    "\n",
    "        p1=True\n",
    "        p3=True\n",
    "        p2=True\n",
    "        p4=True\n",
    "        \n",
    "        c1=pre_line.iloc[0]['AND/OR']\n",
    "        c2=pre_line.iloc[0]['AND/OR.1']\n",
    "        c3=pre_line.iloc[0]['AND/OR.2']\n",
    "\n",
    "        course1=pre_line.iloc[0][\"pereq1 title \"]\n",
    "        course2=pre_line.iloc[0][\"pereq2 title \"]\n",
    "        course3=pre_line.iloc[0][\"pereq3 title \"]\n",
    "        course4=pre_line.iloc[0][\"pereq4 title \"]\n",
    "              \n",
    "        var1=True\n",
    "        var2=True\n",
    "        var3=True\n",
    "        var4=True\n",
    "        if(course1==course1):\n",
    "            var1=check_done(course1,reg_data)\n",
    "        if(course2==course2):\n",
    "            var2=check_done(course2,reg_data)\n",
    "        if(course3==course3):\n",
    "            var3=check_done(course3,reg_data)\n",
    "        if(course4==course4):\n",
    "            var4=check_done(course4,reg_data)\n",
    "        \n",
    "        var=False\n",
    "        if(course4==course4):\n",
    "            if(c3==\"OR\"):\n",
    "                var=(var4 or var3)\n",
    "            elif(c3==\"AND\"):\n",
    "                var=var4 and var3\n",
    "            if(c2==\"OR\"):\n",
    "                var=var or var2\n",
    "            elif( c2==\"AND\"):\n",
    "                var=var and var2\n",
    "            if(c1==\"OR\"):\n",
    "                var=var or var1\n",
    "            elif( c1==\"AND\"):\n",
    "                var=var and var1\n",
    "            \n",
    "        elif(course3==course3):\n",
    "            if(c2==\"OR\"):\n",
    "                var=var3 or var2\n",
    "            elif(c2==\"AND\"):\n",
    "                var=var3 and var2\n",
    "            if(c1==\"OR\"):\n",
    "                var=var or var1\n",
    "            elif( c1==\"AND\"):\n",
    "                var=var and var1\n",
    "        elif(course2==course2):\n",
    "            if(c1==\"OR\"):\n",
    "                var=var2 or var1\n",
    "            elif(c1==\"AND\"):\n",
    "                var=var2 and var1\n",
    "        elif(course1==course1):\n",
    "            var=var1\n",
    "        else:\n",
    "            var=True\n",
    "            \n",
    "        not_completed=list()\n",
    "        \n",
    "        if(var!=True):\n",
    "            if(not var1):\n",
    "                not_completed.append(course1)\n",
    "            if(not var2):\n",
    "                not_completed.append(course2)\n",
    "            if(not var3):\n",
    "                not_completed.append(course3)\n",
    "            if(not var4):\n",
    "                not_completed.append(course4)\n",
    "        \n",
    "        \n",
    "        if(len(not_completed)!=0):\n",
    "            dict1[course_name]=not_completed\n",
    "    return dict1"
   ]
  },
  {
   "cell_type": "code",
   "execution_count": 10,
   "metadata": {
    "collapsed": true
   },
   "outputs": [],
   "source": [
    "def pre_req_future(courses):\n",
    "    dict1=dict()\n",
    "    for course_no in range(len(courses[0])):\n",
    "        pre_line1=pre_req.loc[((pre_req[\"Subject\"])==courses[0][course_no])]\n",
    "        if pre_line1.empty==True:\n",
    "            pre_line1=pre_req.loc[((pre_req[\"Subject\"])==\" \"+courses[0][course_no])]\n",
    "        \n",
    "        pre_line=pre_line1.loc[pre_line1[\"Catalog\"]==(courses[1][course_no])]\n",
    "        if pre_line.empty==True:\n",
    "            pre_line=pre_line1.loc[(pre_line1[\"Catalog\"]==\"    \"+courses[1][course_no])]\n",
    "        if pre_line.empty==True:\n",
    "            pre_line=pre_line1.loc[(pre_line1[\"Catalog\"]==\"   \"+courses[1][course_no])]\n",
    "        if pre_line.empty==True:\n",
    "            pre_line=pre_line1.loc[(pre_line1[\"Catalog\"]==\"  \"+courses[1][course_no])]\n",
    "        if pre_line.empty==True:\n",
    "            pre_line=pre_line1.loc[(pre_line1[\"Catalog\"]==\" \"+courses[1][course_no])]\n",
    "        if(pre_line.empty==True):\n",
    "            continue\n",
    "        \n",
    "        course_name=pre_line.iloc[0]['Title']\n",
    "        \n",
    "        fut1=pre_req.loc[(pre_req[\"pereq1 title \"]==course_name)]\n",
    "        fut1.append(pre_req.loc[(pre_req[\"pereq2 title \"]==course_name)])\n",
    "        fut1.append(pre_req.loc[(pre_req[\"pereq3 title \"]==course_name)])\n",
    "        fut1.append(pre_req.loc[(pre_req[\"pereq4 title \"]==course_name)])\n",
    "        \n",
    "        lis_courses=list(fut1.iloc[:][\"Title\"])\n",
    "        lis_courses = list(dict.fromkeys(lis_courses))\n",
    "        dict1[course_name]=lis_courses\n",
    "        \n",
    "    return dict1 "
   ]
  },
  {
   "cell_type": "code",
   "execution_count": 11,
   "metadata": {
    "collapsed": true
   },
   "outputs": [],
   "source": [
    "def credit_limit():\n",
    "    pass"
   ]
  },
  {
   "cell_type": "code",
   "execution_count": 12,
   "metadata": {
    "collapsed": true
   },
   "outputs": [],
   "source": [
    "def check_done(course,reg_data):\n",
    "    ddf=reg_data.loc[((reg_data[\"Descr\"])==course)]\n",
    "    if(ddf.empty):\n",
    "        return False\n",
    "    else:\n",
    "        grade=ddf.iloc[0][\"Course Grade\"]\n",
    "        \n",
    "        if grade in list([\"A\",\"B\",\"C\",\"D\",\"E\",\"A-\",\"B-\",\"C-\",]):\n",
    "            return True\n",
    "    return False\n",
    "    \n",
    "    \n",
    "    "
   ]
  },
  {
   "cell_type": "code",
   "execution_count": 21,
   "metadata": {
    "collapsed": true
   },
   "outputs": [],
   "source": [
    "def write_file(pre_req,req_fut,student_id):\n",
    "    with pd.ExcelWriter('./Output/'+student_id+'.xlsx') as writer: \n",
    "        workbook  = writer.book\n",
    "        header_format = workbook.add_format({\n",
    "        'bold': True,\n",
    "        'text_wrap': True,\n",
    "        'valign': 'top',\n",
    "        'fg_color': '#48ceca',\n",
    "        'border': 1})\n",
    "\n",
    "        pre_req_pd=pd.DataFrame.from_dict(pre_req, orient='index')\n",
    "        pre_req_pd.to_excel(writer, sheet_name='Sheet1',startcol=0,startrow=3)\n",
    "        worksheet = writer.sheets['Sheet1']\n",
    "        worksheet.write( 1,0, \"PRE REQ NOT SATISFIED\", header_format)\n",
    "        worksheet.write( 2,0, \"Course\", header_format)\n",
    "        \n",
    "                \n",
    "        pre_fut_pd=pd.DataFrame.from_dict(req_fut, orient='index')\n",
    "        pre_fut_pd.to_excel(writer, sheet_name='Sheet1',startcol=0,startrow=12)\n",
    "        worksheet = writer.sheets['Sheet1']\n",
    "        worksheet.write( 10,0, \"FUTURE COURSES REQ\", header_format)\n",
    "        worksheet.write( 11,0, \"Current Course\", header_format)\n",
    "        \n",
    "        \n",
    "#         row=3\n",
    "#         col=0\n",
    "#         for course in pre_req.keys:\n",
    "#             worksheet.write( row,0,course,header_format)\n",
    "#             col=0\n",
    "#             for i,pre in enumerate(pre_req[course]):\n",
    "#                 worksheet.write( row,i+1,pre,header_format)"
   ]
  },
  {
   "cell_type": "code",
   "execution_count": 14,
   "metadata": {
    "collapsed": true
   },
   "outputs": [],
   "source": [
    "registration_data=load_reg()"
   ]
  },
  {
   "cell_type": "code",
   "execution_count": 22,
   "metadata": {},
   "outputs": [],
   "source": [
    "for student in students_id:\n",
    "    loc = (\"./Input/\"+student) \n",
    "    # To open Workbook \n",
    "    wb = xlrd.open_workbook(loc) \n",
    "    sheet = wb.sheet_by_index(0) \n",
    "    \n",
    "    student_id=student[:13]\n",
    "    \n",
    "    student_reg=registration_data.loc[((registration_data[\"Campus ID\"])== student_id)]\n",
    "    \n",
    "    courses = [[sheet.cell_value(r, c) for c in range(sheet.ncols)] for r in range(1,sheet.nrows)]\n",
    "    \n",
    "    pre_not_satisfied=pre_req_satisfied(courses,student_reg)\n",
    "    pre_future=pre_req_future(courses)\n",
    "    \n",
    "    write_file(pre_not_satisfied,pre_future,student_id)\n",
    "    \n",
    "# print(pre_not_satisfied)\n",
    "# print(pre_future)\n"
   ]
  },
  {
   "cell_type": "code",
   "execution_count": 17,
   "metadata": {
    "collapsed": true
   },
   "outputs": [],
   "source": [
    "pre_req=load_pre()"
   ]
  },
  {
   "cell_type": "code",
   "execution_count": null,
   "metadata": {
    "collapsed": true
   },
   "outputs": [],
   "source": []
  }
 ],
 "metadata": {
  "kernelspec": {
   "display_name": "Python 3",
   "language": "python",
   "name": "python3"
  },
  "language_info": {
   "codemirror_mode": {
    "name": "ipython",
    "version": 3
   },
   "file_extension": ".py",
   "mimetype": "text/x-python",
   "name": "python",
   "nbconvert_exporter": "python",
   "pygments_lexer": "ipython3",
   "version": "3.6.7"
  }
 },
 "nbformat": 4,
 "nbformat_minor": 2
}
